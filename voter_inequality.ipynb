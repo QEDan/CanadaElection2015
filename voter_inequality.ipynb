{
 "cells": [
  {
   "cell_type": "markdown",
   "metadata": {},
   "source": [
    "***Voter Inequality in Canada***"
   ]
  },
  {
   "cell_type": "code",
   "execution_count": 1,
   "metadata": {
    "collapsed": true
   },
   "outputs": [],
   "source": [
    "def read_file(filename):\n",
    "    f = open(filename, 'r')\n",
    "    abc = f.readlines()\n",
    "    f.close()\n",
    "    return abc\n",
    "\n",
    "def tab_separate(contents):\n",
    "    xyz = []\n",
    "    for a in contents:\n",
    "        b = a.split(\"\\t\")\n",
    "        xyz.append(b)\n",
    "    return xyz\n",
    "\n",
    "def remove_non_data_lines(sep_contents):\n",
    "    a1 = []\n",
    "    for x in sep_contents:\n",
    "        if len([y for y in x if y == '']) < 2:\n",
    "            a1.append(x)\n",
    "    return a1\n",
    "\n",
    "def get_riding_names(clean_contents):\n",
    "    ridings = []\n",
    "    for i in range(338):\n",
    "        ridings.append(clean_contents[i*3+1][0])\n",
    "    return ridings"
   ]
  },
  {
   "cell_type": "code",
   "execution_count": 2,
   "metadata": {
    "collapsed": false
   },
   "outputs": [],
   "source": [
    "abc = read_file('current_projections.txt')\n",
    "xyz = tab_separate(abc)\n",
    "a1 = remove_non_data_lines(xyz)\n",
    "ridings = get_riding_names(a1)"
   ]
  },
  {
   "cell_type": "code",
   "execution_count": 3,
   "metadata": {
    "collapsed": false
   },
   "outputs": [],
   "source": [
    "import fednum_dict as fed"
   ]
  },
  {
   "cell_type": "code",
   "execution_count": 4,
   "metadata": {
    "collapsed": true
   },
   "outputs": [],
   "source": [
    "a2 = {v: k for k, v in fed.fednum_dict.items()} "
   ]
  },
  {
   "cell_type": "code",
   "execution_count": 5,
   "metadata": {
    "collapsed": true
   },
   "outputs": [],
   "source": [
    "found = {}\n",
    "found['Haliburton – Kawaratha Lakes – Brock'] = 35034\n",
    "found['Ahuntsic – Cartierville'] = 24003\n",
    "found['Laval-Les \\xceles'] = 24040 \n",
    "found['Mont-Royal'] = 24052 \n",
    "found[\"Ville-Marie – Le Sud-Ouest – L'Île-des-Soeurs\"] = 24077 \n",
    "found[\"Beauport – Côte-de-Beaupré – Île d'Orléans – Charlevoix\"] = 24020\n",
    "found['Portneuf – Jacques Cartier'] = 24058\n",
    "found[\"South Shore – St. Margaret's\"] = 12009"
   ]
  },
  {
   "cell_type": "code",
   "execution_count": 6,
   "metadata": {
    "collapsed": false
   },
   "outputs": [],
   "source": [
    "not_found = []\n",
    "for r in ridings:\n",
    "    if r not in found:\n",
    "        if r in a2:\n",
    "            found[r] = a2[r]\n",
    "        else:\n",
    "            new = r.strip('*')\n",
    "            if new in a2:\n",
    "                found[r] = a2[new]\n",
    "            else:\n",
    "                not_found.append(r)"
   ]
  },
  {
   "cell_type": "code",
   "execution_count": 7,
   "metadata": {
    "collapsed": false
   },
   "outputs": [
    {
     "data": {
      "text/plain": [
       "[]"
      ]
     },
     "execution_count": 7,
     "metadata": {},
     "output_type": "execute_result"
    }
   ],
   "source": [
    "not_found"
   ]
  },
  {
   "cell_type": "code",
   "execution_count": 8,
   "metadata": {
    "collapsed": false
   },
   "outputs": [
    {
     "data": {
      "text/plain": [
       "338"
      ]
     },
     "execution_count": 8,
     "metadata": {},
     "output_type": "execute_result"
    }
   ],
   "source": [
    "len(found)"
   ]
  },
  {
   "cell_type": "code",
   "execution_count": 9,
   "metadata": {
    "collapsed": false
   },
   "outputs": [
    {
     "data": {
      "text/plain": [
       "0"
      ]
     },
     "execution_count": 9,
     "metadata": {},
     "output_type": "execute_result"
    }
   ],
   "source": [
    "len(not_found)"
   ]
  },
  {
   "cell_type": "code",
   "execution_count": 10,
   "metadata": {
    "collapsed": false
   },
   "outputs": [
    {
     "data": {
      "text/plain": [
       "338"
      ]
     },
     "execution_count": 10,
     "metadata": {},
     "output_type": "execute_result"
    }
   ],
   "source": [
    "len(set(found.keys()))"
   ]
  },
  {
   "cell_type": "code",
   "execution_count": 11,
   "metadata": {
    "collapsed": false
   },
   "outputs": [
    {
     "data": {
      "text/plain": [
       "338"
      ]
     },
     "execution_count": 11,
     "metadata": {},
     "output_type": "execute_result"
    }
   ],
   "source": [
    "len(set(found.values()))"
   ]
  },
  {
   "cell_type": "code",
   "execution_count": 12,
   "metadata": {
    "collapsed": false
   },
   "outputs": [],
   "source": [
    "import ridingForecast"
   ]
  },
  {
   "cell_type": "code",
   "execution_count": 13,
   "metadata": {
    "collapsed": false
   },
   "outputs": [],
   "source": [
    "ridingList = ridingForecast.parseCleanForecasts(a1)"
   ]
  },
  {
   "cell_type": "code",
   "execution_count": 14,
   "metadata": {
    "collapsed": false
   },
   "outputs": [
    {
     "name": "stdout",
     "output_type": "stream",
     "text": [
      "Abbotsford\n",
      "Winner: Conservative prob: 0.86\n",
      "\n",
      "Conservative Party, low = 41.8, forecast = 44.0, high = 48.4\n",
      "Liberal Party, low = 22.0, forecast = 24.4, high = 26.1\n",
      "New Democratic Party, low = 22.8, forecast = 23.7, high = 25.6\n",
      "Bloc Quebecois Party, low = 0.0, forecast = 0.0, high = 0.0\n",
      "Green Party, low = 0.0, forecast = 0.0, high = 0.0\n",
      "Other Party, low = 6.9, forecast = 7.7, high = 8.2\n"
     ]
    }
   ],
   "source": [
    "print(ridingList[0])"
   ]
  },
  {
   "cell_type": "code",
   "execution_count": null,
   "metadata": {
    "collapsed": true
   },
   "outputs": [],
   "source": []
  }
 ],
 "metadata": {
  "kernelspec": {
   "display_name": "Python 3",
   "language": "python",
   "name": "python3"
  },
  "language_info": {
   "codemirror_mode": {
    "name": "ipython",
    "version": 3
   },
   "file_extension": ".py",
   "mimetype": "text/x-python",
   "name": "python",
   "nbconvert_exporter": "python",
   "pygments_lexer": "ipython3",
   "version": "3.4.3"
  }
 },
 "nbformat": 4,
 "nbformat_minor": 0
}
