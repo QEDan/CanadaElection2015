{
 "cells": [
  {
   "cell_type": "markdown",
   "metadata": {},
   "source": [
    "***Voter Inequality in Canada***"
   ]
  },
  {
   "cell_type": "code",
   "execution_count": 1,
   "metadata": {
    "collapsed": true
   },
   "outputs": [],
   "source": [
    "%matplotlib inline\n",
    "\n",
    "import pandas as pd\n",
    "import numpy as np\n",
    "import matplotlib.pyplot as plt"
   ]
  },
  {
   "cell_type": "markdown",
   "metadata": {},
   "source": [
    "Define some helper functions for parsing the 308.com data"
   ]
  },
  {
   "cell_type": "code",
   "execution_count": 2,
   "metadata": {
    "collapsed": true
   },
   "outputs": [],
   "source": [
    "def read_file(filename):\n",
    "    f = open(filename, 'r')\n",
    "    abc = f.readlines()\n",
    "    f.close()\n",
    "    return abc\n",
    "\n",
    "def tab_separate(contents):\n",
    "    xyz = []\n",
    "    for a in contents:\n",
    "        b = a.split(\"\\t\")\n",
    "        xyz.append(b)\n",
    "    return xyz\n",
    "\n",
    "def remove_non_data_lines(sep_contents):\n",
    "    a1 = []\n",
    "    for x in sep_contents:\n",
    "        if len([y for y in x if y == '']) < 2:\n",
    "            a1.append(x)\n",
    "    return a1\n",
    "\n",
    "def get_riding_names(clean_contents):\n",
    "    ridings = []\n",
    "    for i in range(338):\n",
    "        ridings.append(clean_contents[i*3+1][0])\n",
    "    return ridings"
   ]
  },
  {
   "cell_type": "markdown",
   "metadata": {},
   "source": [
    "Parse the 308.com data"
   ]
  },
  {
   "cell_type": "code",
   "execution_count": 3,
   "metadata": {
    "collapsed": false
   },
   "outputs": [],
   "source": [
    "abc = read_file('current_projections.txt')\n",
    "xyz = tab_separate(abc)\n",
    "a1 = remove_non_data_lines(xyz)\n",
    "ridings = get_riding_names(a1)"
   ]
  },
  {
   "cell_type": "code",
   "execution_count": 4,
   "metadata": {
    "collapsed": false
   },
   "outputs": [],
   "source": [
    "import fednum_dict as fed"
   ]
  },
  {
   "cell_type": "code",
   "execution_count": 5,
   "metadata": {
    "collapsed": true
   },
   "outputs": [],
   "source": [
    "a2 = {v: k for k, v in fed.fednum_dict.items()} "
   ]
  },
  {
   "cell_type": "markdown",
   "metadata": {},
   "source": [
    "Manually set some ridings that are difficult to get automatically"
   ]
  },
  {
   "cell_type": "code",
   "execution_count": 6,
   "metadata": {
    "collapsed": true
   },
   "outputs": [],
   "source": [
    "found = {}\n",
    "found['Haliburton – Kawaratha Lakes – Brock'] = 35034\n",
    "found['Ahuntsic – Cartierville'] = 24003\n",
    "found['Laval-Les \\xceles'] = 24040 \n",
    "found['Mont-Royal'] = 24052 \n",
    "found[\"Ville-Marie – Le Sud-Ouest – L'Île-des-Soeurs\"] = 24077 \n",
    "found[\"Beauport – Côte-de-Beaupré – Île d'Orléans – Charlevoix\"] = 24020\n",
    "found['Portneuf – Jacques Cartier'] = 24058\n",
    "found[\"South Shore – St. Margaret's\"] = 12009"
   ]
  },
  {
   "cell_type": "code",
   "execution_count": 7,
   "metadata": {
    "collapsed": false
   },
   "outputs": [],
   "source": [
    "not_found = []\n",
    "for r in ridings:\n",
    "    if r not in found:\n",
    "        if r in a2:\n",
    "            #Riding is easily found in the 308.com data, add to dictionary\n",
    "            found[r] = a2[r]\n",
    "        else:\n",
    "            #Try stripping astrix\n",
    "            new = r.strip('*')\n",
    "            if new in a2:\n",
    "                found[r] = a2[new]\n",
    "            else:\n",
    "                #Failed to find the riding\n",
    "                not_found.append(r)"
   ]
  },
  {
   "cell_type": "markdown",
   "metadata": {},
   "source": [
    "Some sanity checking for the parsing"
   ]
  },
  {
   "cell_type": "code",
   "execution_count": 8,
   "metadata": {
    "collapsed": false
   },
   "outputs": [
    {
     "data": {
      "text/plain": [
       "0"
      ]
     },
     "execution_count": 8,
     "metadata": {},
     "output_type": "execute_result"
    }
   ],
   "source": [
    "len(not_found)"
   ]
  },
  {
   "cell_type": "code",
   "execution_count": 9,
   "metadata": {
    "collapsed": false
   },
   "outputs": [
    {
     "data": {
      "text/plain": [
       "338"
      ]
     },
     "execution_count": 9,
     "metadata": {},
     "output_type": "execute_result"
    }
   ],
   "source": [
    "len(found)"
   ]
  },
  {
   "cell_type": "code",
   "execution_count": 10,
   "metadata": {
    "collapsed": false
   },
   "outputs": [
    {
     "data": {
      "text/plain": [
       "0"
      ]
     },
     "execution_count": 10,
     "metadata": {},
     "output_type": "execute_result"
    }
   ],
   "source": [
    "len(not_found)"
   ]
  },
  {
   "cell_type": "code",
   "execution_count": 11,
   "metadata": {
    "collapsed": false
   },
   "outputs": [
    {
     "data": {
      "text/plain": [
       "338"
      ]
     },
     "execution_count": 11,
     "metadata": {},
     "output_type": "execute_result"
    }
   ],
   "source": [
    "len(set(found.keys()))"
   ]
  },
  {
   "cell_type": "code",
   "execution_count": 12,
   "metadata": {
    "collapsed": false
   },
   "outputs": [
    {
     "data": {
      "text/plain": [
       "338"
      ]
     },
     "execution_count": 12,
     "metadata": {},
     "output_type": "execute_result"
    }
   ],
   "source": [
    "len(set(found.values()))"
   ]
  },
  {
   "cell_type": "markdown",
   "metadata": {},
   "source": [
    "ridingForecast.py contains some classes for storing party forecasts and riding forecasts"
   ]
  },
  {
   "cell_type": "code",
   "execution_count": 13,
   "metadata": {
    "collapsed": false
   },
   "outputs": [],
   "source": [
    "import ridingForecast"
   ]
  },
  {
   "cell_type": "code",
   "execution_count": 14,
   "metadata": {
    "collapsed": false
   },
   "outputs": [],
   "source": [
    "ridingDict = ridingForecast.parseCleanForecasts(a1)"
   ]
  },
  {
   "cell_type": "code",
   "execution_count": 15,
   "metadata": {
    "collapsed": false
   },
   "outputs": [
    {
     "name": "stdout",
     "output_type": "stream",
     "text": [
      "Mont-Royal\n",
      "Winner: ('Liberal', 48.1) prob: 0.71\n",
      "\n",
      "Conservative Party, low = 36.6, forecast = 38.5, high = 42.3\n",
      "Liberal Party, low = 43.3, forecast = 48.1, high = 51.5\n",
      "New Democratic Party, low = 8.9, forecast = 9.2, high = 10.0\n",
      "Bloc Quebecois Party, low = 1.6, forecast = 1.8, high = 1.9\n",
      "Green Party, low = 1.9, forecast = 2.1, high = 2.3\n",
      "Other Party, low = 0.1, forecast = 0.2, high = 0.3\n"
     ]
    }
   ],
   "source": [
    "print(ridingDict['Mont-Royal'])"
   ]
  },
  {
   "cell_type": "code",
   "execution_count": 16,
   "metadata": {
    "collapsed": false
   },
   "outputs": [
    {
     "name": "stdout",
     "output_type": "stream",
     "text": [
      "Low / Bas     36.6     43.3    8.9    1.6     1.9     0.1\n",
      "Mont-Royal     38.5     48.1    9.2    1.8     2.1     0.2     71.0%\n",
      "High / Haut     42.3     51.5    10.0    1.9     2.3     0.3\n"
     ]
    }
   ],
   "source": [
    "ridingDict['Mont-Royal'].print308()"
   ]
  },
  {
   "cell_type": "code",
   "execution_count": 17,
   "metadata": {
    "collapsed": false
   },
   "outputs": [
    {
     "data": {
      "text/plain": [
       "True"
      ]
     },
     "execution_count": 17,
     "metadata": {},
     "output_type": "execute_result"
    }
   ],
   "source": [
    "#Make sure all the ridings are in the dictionary\n",
    "all([r in ridingDict for r in ridings])"
   ]
  },
  {
   "cell_type": "markdown",
   "metadata": {},
   "source": [
    "Read in the Statistics Canada population data for the ridings"
   ]
  },
  {
   "cell_type": "code",
   "execution_count": 18,
   "metadata": {
    "collapsed": false
   },
   "outputs": [
    {
     "data": {
      "text/html": [
       "<div style=\"max-height:1000px;max-width:1500px;overflow:auto;\">\n",
       "<table border=\"1\" class=\"dataframe\">\n",
       "  <thead>\n",
       "    <tr style=\"text-align: right;\">\n",
       "      <th></th>\n",
       "      <th>Riding</th>\n",
       "      <th>RidingName</th>\n",
       "      <th>Population</th>\n",
       "    </tr>\n",
       "  </thead>\n",
       "  <tbody>\n",
       "    <tr>\n",
       "      <th>0</th>\n",
       "      <td> 10001</td>\n",
       "      <td>                           Avalon</td>\n",
       "      <td> 81540</td>\n",
       "    </tr>\n",
       "    <tr>\n",
       "      <th>1</th>\n",
       "      <td> 10002</td>\n",
       "      <td>          Bonavista–Burin–Trinity</td>\n",
       "      <td> 76704</td>\n",
       "    </tr>\n",
       "    <tr>\n",
       "      <th>2</th>\n",
       "      <td> 10003</td>\n",
       "      <td> Coast of Bays–Central–Notre Dame</td>\n",
       "      <td> 78092</td>\n",
       "    </tr>\n",
       "    <tr>\n",
       "      <th>3</th>\n",
       "      <td> 10004</td>\n",
       "      <td>                         Labrador</td>\n",
       "      <td> 26728</td>\n",
       "    </tr>\n",
       "    <tr>\n",
       "      <th>4</th>\n",
       "      <td> 10005</td>\n",
       "      <td>             Long Range Mountains</td>\n",
       "      <td> 87592</td>\n",
       "    </tr>\n",
       "  </tbody>\n",
       "</table>\n",
       "</div>"
      ],
      "text/plain": [
       "   Riding                        RidingName  Population\n",
       "0   10001                            Avalon       81540\n",
       "1   10002           Bonavista–Burin–Trinity       76704\n",
       "2   10003  Coast of Bays–Central–Notre Dame       78092\n",
       "3   10004                          Labrador       26728\n",
       "4   10005              Long Range Mountains       87592"
      ]
     },
     "execution_count": 18,
     "metadata": {},
     "output_type": "execute_result"
    }
   ],
   "source": [
    "populations = pd.read_csv('ridingPopulations.csv')\n",
    "populations.head()"
   ]
  },
  {
   "cell_type": "code",
   "execution_count": 19,
   "metadata": {
    "collapsed": false
   },
   "outputs": [],
   "source": [
    "for riding in ridings:\n",
    "    ridingDict[riding].population = float(populations[populations['Riding'] == found[riding]]['Population'])"
   ]
  },
  {
   "cell_type": "markdown",
   "metadata": {},
   "source": [
    "The function for the value of a vote assumes that a voter forecast to cast a tie breaking vote in a riding has value 1.0. The value of other votes is 1.0 divided by the number of times they would need to vote for their party to win."
   ]
  },
  {
   "cell_type": "code",
   "execution_count": 20,
   "metadata": {
    "collapsed": true
   },
   "outputs": [],
   "source": [
    "def voteValue(partyName, ridingFC):\n",
    "    if partyName == ridingFC.getWinner()[0]:\n",
    "        delta = ridingFC.getForecast(partyName) - ridingFC.getSecond()[1]\n",
    "    else:\n",
    "        delta = ridingFC.getWinner()[1] - ridingFC.getForecast(partyName)\n",
    "    delta = max(0.05, delta)\n",
    "    return 100.0/max(100.0,ridingFC.population*delta)"
   ]
  },
  {
   "cell_type": "code",
   "execution_count": 21,
   "metadata": {
    "collapsed": false
   },
   "outputs": [],
   "source": [
    "conValues = [(riding, voteValue(\"Conservative\", ridingDict[riding])) for riding in ridings]\n",
    "libValues = [(riding, voteValue(\"Liberal\", ridingDict[riding])) for riding in ridings]\n",
    "ndpValues = [(riding, voteValue(\"New Democratic\", ridingDict[riding])) for riding in ridings]\n",
    "blocValues = [(riding, voteValue(\"Bloc Quebecois\", ridingDict[riding])) for riding in ridings]\n",
    "greenValues = [(riding, voteValue(\"Green\", ridingDict[riding])) for riding in ridings]\n",
    "otherValues = [(riding, voteValue(\"Other\", ridingDict[riding])) for riding in ridings]\n",
    "#print(greenValues)\n",
    "#print(sorted(ndpValues, key=lambda x: x[1]))"
   ]
  },
  {
   "cell_type": "code",
   "execution_count": 22,
   "metadata": {
    "collapsed": false
   },
   "outputs": [
    {
     "name": "stdout",
     "output_type": "stream",
     "text": [
      "('Elmwood – Transcona', 0.003880210152181787)\n",
      "('Battle River – Crowfoot', 1.2927399208946587e-05)\n"
     ]
    }
   ],
   "source": [
    "print(max(ndpValues, key=lambda x: x[1]))\n",
    "print(min(ndpValues, key=lambda x: x[1]))"
   ]
  },
  {
   "cell_type": "code",
   "execution_count": 23,
   "metadata": {
    "collapsed": true
   },
   "outputs": [],
   "source": [
    "parties = [\"Conservative\", \"Liberal\", \"New Democratic\", \"Bloc Quebecois\", \"Green\", \"Other\"]"
   ]
  },
  {
   "cell_type": "code",
   "execution_count": 24,
   "metadata": {
    "collapsed": false
   },
   "outputs": [],
   "source": [
    "totalpop = sum([ridingDict[riding].population for riding in ridings])"
   ]
  },
  {
   "cell_type": "markdown",
   "metadata": {},
   "source": [
    "Here we create an array containing the voting values of one in one thousand Canadian voters"
   ]
  },
  {
   "cell_type": "code",
   "execution_count": 25,
   "metadata": {
    "collapsed": false
   },
   "outputs": [],
   "source": [
    "voterPowers = np.zeros(32652)\n",
    "i = 0\n",
    "for riding in ridings:\n",
    "    for party in parties:\n",
    "        for person in range(\n",
    "            int(ridingDict[riding].getForecast(party)/100.0\n",
    "                *ridingDict[riding].population/1000.0)):\n",
    "            voterPowers[i] = voteValue(party, ridingDict[riding])\n",
    "            i += 1\n",
    "            "
   ]
  },
  {
   "cell_type": "markdown",
   "metadata": {},
   "source": [
    "The Lorenz curve is a common way of displaying inequality in a distribution. Basically, the plot visually represents statements in the form \"the bottom 20% of all households have 10% of the total income.\". This function computes the values of the Lorenz curve.\n",
    "\n",
    "<a href=\"https://en.wikipedia.org/wiki/Lorenz_curve\"> >Lorenz Curve</a>"
   ]
  },
  {
   "cell_type": "code",
   "execution_count": 26,
   "metadata": {
    "collapsed": true
   },
   "outputs": [],
   "source": [
    "def Lorenz(values):\n",
    "    n = len(values)\n",
    "    assert(n > 0), 'Empty list of values'\n",
    "    sortedValues = sorted(values) #Sort smallest to largest\n",
    "\n",
    "    #Find cumulative totals\n",
    "    cumm = np.zeros(n+1)\n",
    "    for i in range(n+1):\n",
    "        cumm[i] = sum(sortedValues[0:(i + 1)])\n",
    "\n",
    "    #Calculate Lorenz points\n",
    "    LorenzPoints = [[], []]\n",
    "    for i in range(1, n + 2):\n",
    "        x = 100.0 * (i - 1)/n\n",
    "        y = 100.0 * (cumm[i - 1]/float(cumm[n]))\n",
    "        LorenzPoints[0].append(x)\n",
    "        LorenzPoints[1].append(y)\n",
    "    \n",
    "\n",
    "    return LorenzPoints"
   ]
  },
  {
   "cell_type": "code",
   "execution_count": 27,
   "metadata": {
    "collapsed": false
   },
   "outputs": [
    {
     "data": {
      "text/plain": [
       "32652"
      ]
     },
     "execution_count": 27,
     "metadata": {},
     "output_type": "execute_result"
    }
   ],
   "source": [
    "len(voterPowers)"
   ]
  },
  {
   "cell_type": "code",
   "execution_count": 28,
   "metadata": {
    "collapsed": false
   },
   "outputs": [],
   "source": [
    "lorenzPoints = Lorenz(voterPowers)"
   ]
  },
  {
   "cell_type": "code",
   "execution_count": 29,
   "metadata": {
    "collapsed": false
   },
   "outputs": [
    {
     "data": {
      "image/png": "[encoded data removed]",
      "text/plain": [
       "<matplotlib.figure.Figure at 0x7f7749f81518>"
      ]
     },
     "metadata": {},
     "output_type": "display_data"
    }
   ],
   "source": [
    "plt.plot(lorenzPoints[0], lorenzPoints[1], [0, 100], [0, 100], '--')\n",
    "plt.xlabel('% of voters')\n",
    "plt.ylabel('% of power')\n",
    "plt.title(\"Lorenz Curve of Voter Inequality in Canada\")\n",
    "plt.show()"
   ]
  },
  {
   "cell_type": "markdown",
   "metadata": {},
   "source": [
    "The Gini coefficient is a measure of the inequality represented by the Lorenz curve. It is basically the area between the green dotted line and the blue line, divided by the area under the green dotted line.\n",
    "\n",
    "<a href=\"https://en.wikipedia.org/wiki/Gini_coefficient\">Gini Coefficient</a>\n",
    "\n",
    "Canada's wealth inequality Gini Coefficient is about 0.32. South Africa's weath inequality Gini Coefficient is about 0.65, the largest in the world."
   ]
  },
  {
   "cell_type": "code",
   "execution_count": 30,
   "metadata": {
    "collapsed": true
   },
   "outputs": [],
   "source": [
    "def gini(list_of_values):\n",
    "  \"\"\"Compute the Gini coefficient given a list of values\"\"\"\n",
    "  sorted_list = sorted(list_of_values)\n",
    "  height, area = 0, 0\n",
    "  for value in sorted_list:\n",
    "    height += value\n",
    "    area += height - value / 2.\n",
    "  fair_area = height * len(list_of_values) / 2\n",
    "  return (fair_area - area) / fair_area"
   ]
  },
  {
   "cell_type": "code",
   "execution_count": 31,
   "metadata": {
    "collapsed": false
   },
   "outputs": [
    {
     "name": "stdout",
     "output_type": "stream",
     "text": [
      "0.763955123462\n"
     ]
    }
   ],
   "source": [
    "print(gini(voterPowers))"
   ]
  },
  {
   "cell_type": "code",
   "execution_count": 32,
   "metadata": {
    "collapsed": false
   },
   "outputs": [],
   "source": [
    "class voteSwap():\n",
    "    \"\"\"                                                                                                  \n",
    "    Class for holding information about a swap between two ridings                                       \n",
    "    \"\"\"\n",
    "    def\t__init__(self, riding1=None, riding2=None, party1=None, party2=None):\n",
    "        assert riding1 != riding2, \"Ridings must be different\"\n",
    "        assert party1 != party2, \"Parties must be different\"\n",
    "        self.riding1 = riding1\n",
    "        self.riding2 = riding2\n",
    "        self.party1 = party1\n",
    "        self.party2 = party2\n",
    "        #Compute the original values of the votes                                                        \n",
    "        origVal1 = voteValue(self.party1, ridingDict[self.riding1])\n",
    "        origVal2 = voteValue(self.party2, ridingDict[self.riding2])\n",
    "        #Compute the new values of the swapped votes                                                     \n",
    "        # Note that the first voter keeps his preferred party but is                                     \n",
    "        # effectively voting in the second riding.                                                       \n",
    "        newVal1 = voteValue(self.party1, ridingDict[self.riding2])\n",
    "        newVal2 = voteValue(self.party2, ridingDict[self.riding1])\n",
    "        #Return a tuple consisting of                                                                    \n",
    "        # 0 - The total increased value because of the swap                                              \n",
    "        # 1 - The value increase for the first voter                                                     \n",
    "        # 2 - The value increase for the second voter                                                    \n",
    "        self.benefit1 = newVal1 / origVal1\n",
    "        self.benefit2 = newVal2 / origVal2\n",
    "        self.totalBenefit = self.benefit1*self.benefit2\n",
    "        \n",
    "    def __str__(self):\n",
    "            return \"{} voters in {} (gain {}) \\nswap with \\n{} voters in {} (gain: {}). \\nTotal gain: {}\".format(\n",
    "        self.party1, self.riding1, self.benefit1, \n",
    "                self.party2, self.riding2, self.benefit2,\n",
    "                self.totalBenefit)\n",
    "    def value(self):\n",
    "        return(self.benefit1*self.benefit2, self.benefit1, self.benefit2)"
   ]
  },
  {
   "cell_type": "markdown",
   "metadata": {},
   "source": [
    "A few examples:"
   ]
  },
  {
   "cell_type": "markdown",
   "metadata": {},
   "source": [
    "An NDP voter in Calgary Centre might swap with a Liberal voter in Surrey Centre. These are both swing ridings. Both voters benefit from the transaction."
   ]
  },
  {
   "cell_type": "code",
   "execution_count": 33,
   "metadata": {
    "collapsed": false
   },
   "outputs": [
    {
     "data": {
      "text/plain": [
       "(5.569230769230769, 117.90126712471952, 0.047236394527799846)"
      ]
     },
     "execution_count": 33,
     "metadata": {},
     "output_type": "execute_result"
    }
   ],
   "source": [
    "voteSwap(\"Calgary Centre\", \"Surrey Centre\", \"New Democratic\", \"Liberal\").value()"
   ]
  },
  {
   "cell_type": "markdown",
   "metadata": {},
   "source": [
    "Reversing the above transaction will disadvantage both swappers"
   ]
  },
  {
   "cell_type": "code",
   "execution_count": 34,
   "metadata": {
    "collapsed": false
   },
   "outputs": [
    {
     "data": {
      "text/plain": [
       "(0.17955801104972374, 21.17011702515682, 0.008481673050571795)"
      ]
     },
     "execution_count": 34,
     "metadata": {},
     "output_type": "execute_result"
    }
   ],
   "source": [
    "voteSwap(\"Calgary Centre\", \"Surrey Centre\", \"Liberal\", \"New Democratic\").value()"
   ]
  },
  {
   "cell_type": "code",
   "execution_count": 35,
   "metadata": {
    "collapsed": false
   },
   "outputs": [
    {
     "data": {
      "text/plain": [
       "-0.047236394527799846"
      ]
     },
     "execution_count": 35,
     "metadata": {},
     "output_type": "execute_result"
    }
   ],
   "source": [
    "-1.0/voteSwap(\"Calgary Centre\", \"Surrey Centre\", \"Liberal\", \"New Democratic\").benefit1"
   ]
  },
  {
   "cell_type": "code",
   "execution_count": 36,
   "metadata": {
    "collapsed": false
   },
   "outputs": [
    {
     "data": {
      "text/plain": [
       "(1.0, 0.13882500396838096, 7.203313318310885)"
      ]
     },
     "execution_count": 36,
     "metadata": {},
     "output_type": "execute_result"
    }
   ],
   "source": [
    "voteSwap(\"Calgary Centre\", \"Vancouver Quadra\", \"Liberal\", \"Conservative\").value()"
   ]
  },
  {
   "cell_type": "markdown",
   "metadata": {},
   "source": [
    "A Liberal voter in the Liberal safe riding of Vancouver Quadra may wish to send their vote to the swing riding Calgary Centre where it will have more influence. What if they swap with a NDP voter in that riding? The Liberal voter sees a large benefit, while the NDP voter sees a small disadvantage. The net gain in vote value is positive, but will the NDP voter agree to this for the greater good?"
   ]
  },
  {
   "cell_type": "code",
   "execution_count": 37,
   "metadata": {
    "collapsed": false
   },
   "outputs": [
    {
     "data": {
      "text/plain": [
       "(4.865748987854251, 0.675487622548012, 7.203313318310885)"
      ]
     },
     "execution_count": 37,
     "metadata": {},
     "output_type": "execute_result"
    }
   ],
   "source": [
    "voteSwap(\"Calgary Centre\", \"Vancouver Quadra\", \"New Democratic\", \"Liberal\").value()"
   ]
  },
  {
   "cell_type": "markdown",
   "metadata": {},
   "source": [
    "Let's loop through all possible swaps and compute the value of each swap"
   ]
  },
  {
   "cell_type": "code",
   "execution_count": 38,
   "metadata": {
    "collapsed": false
   },
   "outputs": [],
   "source": [
    "import itertools as it\n",
    "swaps = list()\n",
    "for item in it.product(ridings, ridings, parties, parties):\n",
    "    if item[0] != item[1] and item[2] != item[3]:\n",
    "        if any([party.partyName == item[2] and party.high > 0.0 for party in ridingDict[item[0]].partyList]) and any([party.partyName == item[3] and party.high > 0.0 for party in ridingDict[item[1]].partyList]):\n",
    "            swaps.append(voteSwap(item[0], item[1], item[2], item[3]))"
   ]
  },
  {
   "cell_type": "markdown",
   "metadata": {},
   "source": [
    "Now, we will generate a sorted list of all the swaps"
   ]
  },
  {
   "cell_type": "code",
   "execution_count": 39,
   "metadata": {
    "collapsed": false
   },
   "outputs": [
    {
     "name": "stdout",
     "output_type": "stream",
     "text": [
      "Liberal voters in Elmwood – Transcona (gain 257.8618362265657) \n",
      "swap with \n",
      "New Democratic voters in Peterborough – Kawartha (gain: 64.40658394058532). \n",
      "Total gain: 16607.999999999767\n",
      "\n",
      "New Democratic voters in Peterborough – Kawartha (gain 44.86338868707853) \n",
      "swap with \n",
      "Liberal voters in Beauport – Côte-de-Beaupré – Île d'Orléans – Charlevoix (gain: 335.4182651016318). \n",
      "Total gain: 15048.000000000056\n",
      "\n",
      "Conservative voters in Surrey Centre (gain 301.76050802904507) \n",
      "swap with \n",
      "New Democratic voters in Peterborough – Kawartha (gain: 49.62876056186358). \n",
      "Total gain: 14975.99999999979\n",
      "\n",
      "New Democratic voters in Peterborough – Kawartha (gain 34.825201938610675) \n",
      "swap with \n",
      "Conservative voters in Pierre-Boucher – Les Patriotes – Verchères (gain: 344.02672010688036). \n",
      "Total gain: 11980.800000000003\n",
      "\n",
      "Liberal voters in Elmwood – Transcona (gain 64.96764237877822) \n",
      "swap with \n",
      "New Democratic voters in Oakville North – Burlington (gain: 125.15461085372206). \n",
      "Total gain: 8130.99999999977\n",
      "\n",
      "New Democratic voters in Peterborough – Kawartha (gain 34.825201938610675) \n",
      "swap with \n",
      "Liberal voters in Pierre-Boucher – Les Patriotes – Verchères (gain: 231.55644622578484). \n",
      "Total gain: 8064.000000000001\n",
      "\n",
      "Liberal voters in Elmwood – Transcona (gain 73.68531225829639) \n",
      "swap with \n",
      "New Democratic voters in Kanata – Carleton (gain: 108.39111742291806). \n",
      "Total gain: 7986.833333333388\n",
      "\n",
      "New Democratic voters in Oakville North – Burlington (gain 87.17835365853689) \n",
      "swap with \n",
      "Liberal voters in Beauport – Côte-de-Beaupré – Île d'Orléans – Charlevoix (gain: 84.50778995960641). \n",
      "Total gain: 7367.249999999921\n",
      "\n",
      "Conservative voters in Surrey Centre (gain 76.02780254944024) \n",
      "swap with \n",
      "New Democratic voters in Oakville North – Burlington (gain: 96.43840482212876). \n",
      "Total gain: 7331.999999999791\n",
      "\n",
      "Liberal voters in Kootenay – Columbia (gain 474.1536059131248) \n",
      "swap with \n",
      "New Democratic voters in Peterborough – Kawartha (gain: 15.427911775367374). \n",
      "Total gain: 7315.2\n",
      "\n"
     ]
    }
   ],
   "source": [
    "sortedSwaps = sorted(swaps, key=lambda x: x.benefit1*x.benefit2, reverse=True)\n",
    "for swap in sortedSwaps[0:20:2]:\n",
    "    print(swap)\n",
    "    print(\"\")"
   ]
  },
  {
   "cell_type": "code",
   "execution_count": 40,
   "metadata": {
    "collapsed": false
   },
   "outputs": [],
   "source": [
    "partyColours = {'New Democratic': '#F78320', 'Conservative': '#263893', 'Liberal': '#D71921',\n",
    "                     'Green': '#3D9B35', 'Bloc Quebecois': '#00A7EC', 'Other': 'grey'}\n",
    "def plotSwap(swap):\n",
    "    ben1 = swap.benefit1\n",
    "    if ben1 < 1.0:\n",
    "        ben1 = -1.0/ben1\n",
    "    ben2 = swap.benefit2\n",
    "    if ben2 < 1.0:\n",
    "        ben2 = -1.0/ben2\n",
    "        \n",
    "    fig = plt.figure(1)\n",
    "    plt.bar([1,2], \n",
    "            height=[ben1, ben2], \n",
    "            width=0.66, \n",
    "            color=[partyColours[swap.party1], partyColours[swap.party2]])\n",
    "    ax = fig.add_subplot(111)\n",
    "    ax.text(1.3,max(ben1, ben2)*(1.0 + 0.3),\n",
    "            swap.party1 + \" voter in\\n\" + swap.riding1, \n",
    "            ha=\"center\", \n",
    "            va=\"center\", \n",
    "            size=10, \n",
    "            bbox=dict(boxstyle=\"round\", \n",
    "                      fc=partyColours[swap.party1], \n",
    "                      ec=\"0.5\",\n",
    "                      alpha=0.9))\n",
    "    ax.text(2.5,max(ben1, ben2)*(1.0 + 0.3),\n",
    "            swap.party2 + \" voter in\\n\" + swap.riding2, \n",
    "            ha=\"center\", \n",
    "            va=\"center\", \n",
    "            size=10, \n",
    "            bbox=dict(boxstyle=\"round\", \n",
    "                      fc=partyColours[swap.party2], \n",
    "                      ec=\"0.5\",\n",
    "                      alpha=0.9))\n",
    "    ax.text(1.93,max(ben1, ben2)*(1 + 0.25),\n",
    "            \"swaps with\", \n",
    "            ha=\"center\", \n",
    "            va=\"center\", \n",
    "            size=9, \n",
    "            bbox=dict(boxstyle=\"larrow\", \n",
    "                      fc=partyColours[swap.party1], \n",
    "                      ec=\"0.5\",\n",
    "                      alpha=0.9))\n",
    "    ax.text(1.93,max(ben1, ben2)*(1 + 0.35),\n",
    "            \"swaps with\", \n",
    "            ha=\"center\", \n",
    "            va=\"center\", \n",
    "            size=9, \n",
    "            bbox=dict(boxstyle=\"rarrow\", \n",
    "                      fc=partyColours[swap.party2], \n",
    "                      ec=\"0.5\",\n",
    "                      alpha=0.9))\n",
    "    betterWorse = {1.0:\"better\", -1.0:\"worse\"}\n",
    "    ax.text(2.3,0.0,\n",
    "            \"{}X {} off\".format(np.round(np.abs(ben2),1), \n",
    "                                betterWorse[np.sign(ben2)]), \n",
    "            ha=\"center\", \n",
    "            va=\"center\", \n",
    "            size=12, \n",
    "            bbox=dict(boxstyle=\"round\", \n",
    "                      fc=\"white\", \n",
    "                      ec=\"0.5\",\n",
    "                      alpha=0.8))\n",
    "    ax.text(1.3,0.0,\n",
    "            \"{}X {} off\".format(np.round(np.abs(ben1),1), \n",
    "                                betterWorse[np.sign(ben1)]), \n",
    "            ha=\"center\", \n",
    "            va=\"center\", \n",
    "            size=12, \n",
    "            bbox=dict(boxstyle=\"round\", \n",
    "                      fc=\"white\", \n",
    "                      ec=\"0.5\",\n",
    "                      alpha=0.8))\n",
    "    ax.axis('off')\n",
    "    ax.get_xaxis().set_visible(False)\n",
    "    ax.axhline(y=0,color=\"black\")\n",
    "    plt.show()"
   ]
  },
  {
   "cell_type": "code",
   "execution_count": 41,
   "metadata": {
    "collapsed": false
   },
   "outputs": [
    {
     "data": {
      "image/png": "[encoded data removed]",
      "text/plain": [
       "<matplotlib.figure.Figure at 0x7f774a1bfda0>"
      ]
     },
     "metadata": {},
     "output_type": "display_data"
    },
    {
     "data": {
      "image/png": "[encoded data removed]",
      "text/plain": [
       "<matplotlib.figure.Figure at 0x7f772f8550f0>"
      ]
     },
     "metadata": {},
     "output_type": "display_data"
    },
    {
     "data": {
      "image/png": "[encoded data removed]",
      "text/plain": [
       "<matplotlib.figure.Figure at 0x7f772bbc6160>"
      ]
     },
     "metadata": {},
     "output_type": "display_data"
    },
    {
     "data": {
      "image/png": "[encoded data removed]",
      "text/plain": [
       "<matplotlib.figure.Figure at 0x7f772ba07748>"
      ]
     },
     "metadata": {},
     "output_type": "display_data"
    },
    {
     "data": {
      "image/png": "[encoded data removed]",
      "text/plain": [
       "<matplotlib.figure.Figure at 0x7f772d309860>"
      ]
     },
     "metadata": {},
     "output_type": "display_data"
    }
   ],
   "source": [
    "for swap in sortedSwaps[0:10:2]:\n",
    "    plotSwap(swap)"
   ]
  },
  {
   "cell_type": "code",
   "execution_count": 42,
   "metadata": {
    "collapsed": false
   },
   "outputs": [
    {
     "data": {
      "text/plain": [
       "2176472"
      ]
     },
     "execution_count": 42,
     "metadata": {},
     "output_type": "execute_result"
    }
   ],
   "source": [
    "len(sortedSwaps)"
   ]
  },
  {
   "cell_type": "code",
   "execution_count": 43,
   "metadata": {
    "collapsed": true
   },
   "outputs": [],
   "source": [
    "def topSwaps(riding, party, n=10):\n",
    "    validSwaps = list()\n",
    "    for swap in swaps:\n",
    "        if swap.riding1 == riding and swap.party1 == party:\n",
    "            validSwaps.append(swap)\n",
    "    sortedSwaps = sorted(validSwaps, key=lambda x: x.benefit1*x.benefit2, reverse=True) \n",
    "    return sortedSwaps[0:n]\n",
    "    "
   ]
  },
  {
   "cell_type": "code",
   "execution_count": 44,
   "metadata": {
    "collapsed": false
   },
   "outputs": [
    {
     "name": "stdout",
     "output_type": "stream",
     "text": [
      "Choose your riding from the box\n"
     ]
    },
    {
     "name": "stderr",
     "output_type": "stream",
     "text": [
      ":0: FutureWarning: IPython widgets are experimental and may change in the future.\n"
     ]
    }
   ],
   "source": [
    "from IPython.html import widgets\n",
    "from IPython.display import display\n",
    "\n",
    "\n",
    "ridingDrop = widgets.Select(options=sorted(ridingDict))\n",
    "display(ridingDrop)\n",
    "print(\"Choose your riding from the box\")"
   ]
  },
  {
   "cell_type": "code",
   "execution_count": 45,
   "metadata": {
    "collapsed": false
   },
   "outputs": [
    {
     "name": "stdout",
     "output_type": "stream",
     "text": [
      "Choose your preferred party from the box\n"
     ]
    }
   ],
   "source": [
    "\n",
    "partyDrop = widgets.Dropdown(options=sorted(parties))\n",
    "display(partyDrop)\n",
    "print(\"Choose your preferred party from the box\")"
   ]
  },
  {
   "cell_type": "code",
   "execution_count": 46,
   "metadata": {
    "collapsed": false
   },
   "outputs": [],
   "source": [
    "for swap in topSwaps(ridingDrop.selected_label, partyDrop.selected_label,5):\n",
    "    plotSwap(swap)"
   ]
  },
  {
   "cell_type": "markdown",
   "metadata": {},
   "source": [
    "Compute the strategic costs of voting your conscience"
   ]
  },
  {
   "cell_type": "code",
   "execution_count": 47,
   "metadata": {
    "collapsed": false
   },
   "outputs": [
    {
     "data": {
      "text/plain": [
       "19.785714285714306"
      ]
     },
     "execution_count": 47,
     "metadata": {},
     "output_type": "execute_result"
    }
   ],
   "source": [
    "voteValue(\"Liberal\", ridingDict[\"Calgary Confederation\"])/voteValue(\"New Democratic\", ridingDict[\"Calgary Confederation\"])"
   ]
  },
  {
   "cell_type": "code",
   "execution_count": 48,
   "metadata": {
    "collapsed": false
   },
   "outputs": [
    {
     "data": {
      "text/plain": [
       "24.85714285714288"
      ]
     },
     "execution_count": 48,
     "metadata": {},
     "output_type": "execute_result"
    }
   ],
   "source": [
    "voteValue(\"Liberal\", ridingDict[\"Calgary Confederation\"])/voteValue(\"Green\", ridingDict[\"Calgary Confederation\"])"
   ]
  },
  {
   "cell_type": "code",
   "execution_count": 49,
   "metadata": {
    "collapsed": false
   },
   "outputs": [
    {
     "data": {
      "text/plain": [
       "2176472"
      ]
     },
     "execution_count": 49,
     "metadata": {},
     "output_type": "execute_result"
    }
   ],
   "source": [
    "len(swaps)"
   ]
  },
  {
   "cell_type": "code",
   "execution_count": 50,
   "metadata": {
    "collapsed": false
   },
   "outputs": [],
   "source": [
    "f = open('swaps.csv', 'w')\n",
    "f.write(\"Riding1,Riding2,Party1,Party2,Benefit1,Benefit2,totalBenefit\\n\")\n",
    "for swap in swaps:\n",
    "    ben1 = swap.benefit1\n",
    "    if ben1 < 1.0:\n",
    "        ben1 = -1.0/ben1\n",
    "    ben2 = swap.benefit2\n",
    "    if ben2 < 1.0:\n",
    "        ben2 = -1.0/ben2\n",
    "    f.write(\"{},{},{},{},{},{},{}\\n\".format(\n",
    "            swap.riding1, \n",
    "            swap.riding2, \n",
    "            swap.party1, \n",
    "            swap.party2, \n",
    "            ben1, \n",
    "            ben2, \n",
    "            swap.totalBenefit))"
   ]
  },
  {
   "cell_type": "code",
   "execution_count": null,
   "metadata": {
    "collapsed": true
   },
   "outputs": [],
   "source": []
  }
 ],
 "metadata": {
  "kernelspec": {
   "display_name": "Python 3",
   "language": "python",
   "name": "python3"
  },
  "language_info": {
   "codemirror_mode": {
    "name": "ipython",
    "version": 3
   },
   "file_extension": ".py",
   "mimetype": "text/x-python",
   "name": "python",
   "nbconvert_exporter": "python",
   "pygments_lexer": "ipython3",
   "version": "3.4.3"
  }
 },
 "nbformat": 4,
 "nbformat_minor": 0
}
